{
 "cells": [
  {
   "cell_type": "markdown",
   "id": "d562914a-f43b-40e2-9b2a-e5808a2ea81f",
   "metadata": {},
   "source": [
    "# Clase 3 "
   ]
  },
  {
   "cell_type": "markdown",
   "id": "1804d305-5f98-4383-b56c-767c7fbe2e27",
   "metadata": {},
   "source": [
    "Empecemos a ver condicionales en python para poder uso de ciclos "
   ]
  },
  {
   "cell_type": "code",
   "execution_count": null,
   "id": "ebc092b4-18b5-4509-abde-bbe165f1d865",
   "metadata": {},
   "outputs": [],
   "source": [
    "# BOOleanas\n",
    "x=True\n",
    "y=False"
   ]
  },
  {
   "cell_type": "code",
   "execution_count": 3,
   "id": "7285d24a-c9d9-48c0-9f2f-bf08851d2c48",
   "metadata": {},
   "outputs": [
    {
     "data": {
      "text/plain": [
       "True"
      ]
     },
     "execution_count": 3,
     "metadata": {},
     "output_type": "execute_result"
    }
   ],
   "source": [
    "x"
   ]
  },
  {
   "cell_type": "code",
   "execution_count": 5,
   "id": "fd405fde-a87e-4b31-b77f-583ca8636124",
   "metadata": {},
   "outputs": [],
   "source": [
    "#O podemos ponerla como proposiciones \n",
    "x=5<7\n",
    "y=8<=4\n"
   ]
  },
  {
   "cell_type": "code",
   "execution_count": 6,
   "id": "b60e6ce3-8e59-4094-8acc-d3ca4f263289",
   "metadata": {},
   "outputs": [
    {
     "data": {
      "text/plain": [
       "True"
      ]
     },
     "execution_count": 6,
     "metadata": {},
     "output_type": "execute_result"
    }
   ],
   "source": [
    "x"
   ]
  },
  {
   "cell_type": "code",
   "execution_count": 7,
   "id": "a9e73ddd-bad8-4f05-b065-7c1ff2969251",
   "metadata": {},
   "outputs": [
    {
     "data": {
      "text/plain": [
       "False"
      ]
     },
     "execution_count": 7,
     "metadata": {},
     "output_type": "execute_result"
    }
   ],
   "source": [
    "y"
   ]
  },
  {
   "cell_type": "markdown",
   "id": "2c853b58-5d6f-4429-86af-289fa7338e48",
   "metadata": {},
   "source": [
    "$$\n",
    "\\frac{GM}{l_1} \\leq v_1^2 < \\frac{2GM}{l_1}\n",
    "$$"
   ]
  },
  {
   "cell_type": "code",
   "execution_count": 15,
   "id": "bb6902f1-23c4-40fe-8f01-3232bcc5b8e6",
   "metadata": {},
   "outputs": [
    {
     "name": "stdin",
     "output_type": "stream",
     "text": [
      "Da un valor de l1 : 10e-11\n",
      "Da un valor de la velocidad : 234243\n"
     ]
    }
   ],
   "source": [
    "# Ahora hagamos esta proposicion en python \n",
    "#primero las puras variables\n",
    "G=1\n",
    "M=1\n",
    "l1=float(input(\"Da un valor de l1 :\"))\n",
    "v1=float(input(\"Da un valor de la velocidad :\"))\n",
    "\n"
   ]
  },
  {
   "cell_type": "code",
   "execution_count": 16,
   "id": "0d3803d2-9bd7-41b5-9683-190121bcb393",
   "metadata": {},
   "outputs": [
    {
     "name": "stdout",
     "output_type": "stream",
     "text": [
      "Hgao lo que quiero hacer \n"
     ]
    }
   ],
   "source": [
    "# en python\n",
    "k= G*M/l1\n",
    "x=k <= v1**2 <2*k\n",
    "if k:\n",
    "    print(\"Hgao lo que quiero hacer \")\n",
    "elif v1**2 >= 2*k:\n",
    "    print(\"no son datos de una orbita\")\n",
    "else:\n",
    "    print(\"No son datos del perihelio\")\n",
    "    "
   ]
  },
  {
   "cell_type": "code",
   "execution_count": null,
   "id": "1356829c-40ae-435b-be8c-1ebf4490060e",
   "metadata": {},
   "outputs": [],
   "source": []
  },
  {
   "cell_type": "code",
   "execution_count": null,
   "id": "95e96605-067a-40ef-b24c-b39e76695892",
   "metadata": {},
   "outputs": [],
   "source": []
  }
 ],
 "metadata": {
  "kernelspec": {
   "display_name": "Python 3 (ipykernel)",
   "language": "python",
   "name": "python3"
  },
  "language_info": {
   "codemirror_mode": {
    "name": "ipython",
    "version": 3
   },
   "file_extension": ".py",
   "mimetype": "text/x-python",
   "name": "python",
   "nbconvert_exporter": "python",
   "pygments_lexer": "ipython3",
   "version": "3.12.3"
  }
 },
 "nbformat": 4,
 "nbformat_minor": 5
}
